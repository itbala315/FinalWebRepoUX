{
 "cells": [
  {
   "cell_type": "code",
   "execution_count": 40,
   "metadata": {},
   "outputs": [],
   "source": [
    "import numpy as np\n",
    "import pandas as pd\n",
    "import wfdb\n",
    "import scipy.io\n",
    "import resampy\n",
    "import neurokit2 as nk\n",
    "from tensorflow.keras.models import load_model\n",
    "from flask import Flask, request, jsonify\n",
    "import os\n",
    "import json\n",
    "from flask_cors import CORS\n",
    "import sklearn\n",
    "from sklearn import preprocessing"
   ]
  },
  {
   "cell_type": "code",
   "execution_count": 41,
   "metadata": {},
   "outputs": [],
   "source": [
    "def load_mat(fileName):\n",
    "    data=scipy.io.loadmat(fileName)\n",
    "    return data['val']"
   ]
  },
  {
   "cell_type": "code",
   "execution_count": 42,
   "metadata": {},
   "outputs": [
    {
     "name": "stdout",
     "output_type": "stream",
     "text": [
      "[[   0    0    0 ... -284 -281 -284]\n",
      " [   0    0    0 ... -301 -285 -267]\n",
      " [   0    0    0 ...   -5    0   -6]\n",
      " ...\n",
      " [   0    0    0 ...   26   35   46]\n",
      " [   0    0    0 ...  -37  -26   -6]\n",
      " [   0    0    0 ...  -96  -76  -55]]\n"
     ]
    }
   ],
   "source": [
    "eeg_data = load_mat(r\"C:\\Users\\sendm\\physionet.org\\files\\i-care\\2.0\\training\\0313\\0313_001_004_EEG.mat\")\n",
    "print(eeg_data)"
   ]
  },
  {
   "cell_type": "code",
   "execution_count": 43,
   "metadata": {},
   "outputs": [],
   "source": [
    "def load_patient_data(file_path):\n",
    "    with open(file_path, 'r') as f:\n",
    "        lines = f.readlines()\n",
    "\n",
    "    # Parse the desired patient data from the lines\n",
    "    parsed_data = {}\n",
    "    for line in lines:\n",
    "        \n",
    "        attribute, value = line.strip().split(':')\n",
    "        # Store the parsed data in the dictionary\n",
    "        parsed_data[attribute.strip()] = value.strip()\n",
    "\n",
    "    formatted_patient_info = {\n",
    "    'Patient': [parsed_data['Patient']],\n",
    "    'Hospital': [parsed_data['Hospital']],\n",
    "    'Age': [parsed_data['Age']],\n",
    "    'Sex': [parsed_data['Sex']],\n",
    "    'ROSC': [parsed_data['ROSC']],\n",
    "    'OHCA': [parsed_data['OHCA']],\n",
    "    'Shockable Rhythm': [parsed_data['Shockable Rhythm']],\n",
    "    'TTM': [parsed_data['TTM']],\n",
    "    'Outcome': [parsed_data['Outcome']],\n",
    "    'CPC': [parsed_data['CPC']]\n",
    "    }\n",
    "\n",
    "    return formatted_patient_info"
   ]
  },
  {
   "cell_type": "code",
   "execution_count": 44,
   "metadata": {},
   "outputs": [],
   "source": [
    "import numpy as np\n",
    "\n",
    "def reorder_eeg_channels(single_patient_eeg_data, channel_names):\n",
    "    desired_channel_order = ['Fp1', 'Fp2', 'F3', 'F4', 'C3', 'C4', 'P3', 'P4', 'O1', 'O2', 'F7', 'F8', 'T3', 'T4', 'T5', 'T6', 'Fz', 'Cz', 'Pz']\n",
    "\n",
    "    # Extract the list of channel names from the Series\n",
    "    channel_names_list = channel_names.iloc[0]\n",
    "\n",
    "    # Create a mapping dictionary for the patient's channel names\n",
    "    mapping_dict = {}\n",
    "    reordered_channels = []\n",
    "\n",
    "    for channel in desired_channel_order:\n",
    "        if channel in channel_names_list:\n",
    "            index = channel_names_list.index(channel)\n",
    "            mapping_dict[channel] = index\n",
    "            reordered_channels.append(single_patient_eeg_data[index])\n",
    "\n",
    "    # Delete channels that are not in the desired channel list using boolean indexing\n",
    "    channel_names_list = [channel for channel in channel_names_list if channel in desired_channel_order]\n",
    "\n",
    "    return reordered_channels, mapping_dict\n",
    "\n",
    "\n",
    "\n"
   ]
  },
  {
   "cell_type": "code",
   "execution_count": 45,
   "metadata": {},
   "outputs": [],
   "source": [
    "def convert_patient_info(final_df):\n",
    "    bad_indexes = []\n",
    "    for i in final_df.index:\n",
    "        if final_df['EEG'].isnull().iloc[i]:\n",
    "            bad_indexes.append(i)\n",
    "    clean_df = final_df.drop(bad_indexes).reset_index(drop=True)\n",
    "\n",
    "    del clean_df['Hospital']\n",
    "    del clean_df['Patient']\n",
    "    del clean_df['TTM']\n",
    "\n",
    "    clean_df['Outcome'] = clean_df['Outcome'].replace(\"Good\", 0)\n",
    "    clean_df['Outcome'] = clean_df['Outcome'].replace(\"Poor\", 1)\n",
    "\n",
    "    clean_df['Sex'] = clean_df['Sex'].replace(\"Male\", 0)\n",
    "    clean_df['Sex'] = clean_df['Sex'].replace(\"Female\", 1)\n",
    "\n",
    "    clean_df['Shockable Rhythm'] = clean_df['Shockable Rhythm'].replace(\"True\", 0)\n",
    "    clean_df['Shockable Rhythm'] = clean_df['Shockable Rhythm'].replace(\"False\", 1)\n",
    "\n",
    "    clean_df['OHCA'] = clean_df['OHCA'].replace(\"True\", 0)\n",
    "    clean_df['OHCA'] = clean_df['OHCA'].replace(\"False\", 1)\n",
    "\n",
    "    clean_df['ROSC'] = clean_df['ROSC'].replace(\"nan\", np.nan)\n",
    "    clean_df = clean_df.dropna(subset=['ROSC'])\n",
    "    clean_df['Sex'] = clean_df['Sex'].replace(\"nan\", np.nan)\n",
    "    clean_df = clean_df.dropna(subset=['Sex'])\n",
    "    clean_df['OHCA'] = clean_df['OHCA'].replace(\"nan\", np.nan)\n",
    "    clean_df = clean_df.dropna(subset=['OHCA'])\n",
    "    clean_df['Shockable Rhythm'] = clean_df['Shockable Rhythm'].replace(\"nan\", np.nan)\n",
    "    clean_df = clean_df.dropna(subset=['Shockable Rhythm'])\n",
    "    clean_df.dropna(subset=['FS'], inplace=True)\n",
    "\n",
    "    clean_df.reset_index(drop=True, inplace=True)\n",
    "\n",
    "    return clean_df"
   ]
  },
  {
   "cell_type": "code",
   "execution_count": 46,
   "metadata": {},
   "outputs": [],
   "source": [
    "def delete_channels(clean_df):\n",
    "    for i, row in clean_df.iterrows():\n",
    "        eeg_data = np.array(row['EEG'])  # Convert the list to a NumPy array\n",
    "        if eeg_data.shape[0] > 19:  # Check if the EEG data has more than 19 channels\n",
    "            # Drop channels after the 19th channel\n",
    "            clean_df.at[i, 'EEG'] = eeg_data[:19]"
   ]
  },
  {
   "cell_type": "code",
   "execution_count": 47,
   "metadata": {},
   "outputs": [],
   "source": [
    "def format_data(file_path_eeg, file_path_header, file_path_patient_info):\n",
    "    eeg_data = load_mat(file_path_eeg)\n",
    "    \n",
    "    record_header = wfdb.rdheader(file_path_header[:-4])\n",
    "    fs_orig = record_header.fs\n",
    "    channel_names_orig = record_header.sig_name\n",
    "    patient_info = load_patient_data(file_path_patient_info)\n",
    "\n",
    "    final_df = pd.DataFrame(data=patient_info)\n",
    "    # df2 = pd.DataFrame({\"EEG\":eeg_data})\n",
    "    # final_df['EEG'] = eeg_data\n",
    "\n",
    "    # # Transpose the eeg_data array so that channels become rows\n",
    "    # eeg_data_transposed = np.transpose(eeg_data)\n",
    "    \n",
    "    # # Assign transposed eeg_data to the 'EEG' column in the DataFrame\n",
    "    # final_df['EEG'] = [eeg_data_transposed.tolist()]\n",
    "    final_df['EEG'] = [eeg_data]\n",
    "    \n",
    "    \n",
    "    # final_df = pd.concat([df, df2], axis=1, join='inner') \n",
    "    final_df[\"FS\"] = fs_orig\n",
    "    final_df['Channel Names'] = [channel_names_orig]\n",
    "\n",
    "\n",
    "    clean_df = convert_patient_info(final_df)\n",
    "    \n",
    "\n",
    "    # reordered_eeg, map_dicts = reorder_eeg_channels(clean_df['EEG'], clean_df['Channel Names'])\n",
    "    reordered_eeg = clean_df['EEG']\n",
    "    \n",
    "    \n",
    "    clean_df['EEG'] = reordered_eeg\n",
    "\n",
    "    del clean_df['Channel Names']\n",
    "    delete_channels(clean_df)\n",
    "\n",
    "    eeg_list = clean_df['EEG']\n",
    "    fs_list = clean_df['FS']\n",
    "\n",
    "    \n",
    "\n",
    "    del clean_df['Outcome']\n",
    "    del clean_df['EEG']\n",
    "    del clean_df['FS']\n",
    "\n",
    "    clean_df['EEG'] = eeg_list\n",
    "    clean_df['FS'] = fs_list\n",
    "\n",
    "    final_clean_df = clean_df.reset_index()\n",
    "    final_clean_df['Age'] = final_clean_df['Age'].astype(int)\n",
    "    final_clean_df['Sex'] = final_clean_df['Sex'].astype(int)\n",
    "    final_clean_df['ROSC'] = final_clean_df['ROSC'].astype(int)\n",
    "    final_clean_df['OHCA'] = final_clean_df['OHCA'].astype(int)\n",
    "    final_clean_df['Shockable Rhythm'] = final_clean_df['Shockable Rhythm'].astype(int)\n",
    "\n",
    "    return final_clean_df"
   ]
  },
  {
   "cell_type": "code",
   "execution_count": 48,
   "metadata": {},
   "outputs": [],
   "source": [
    "def resample(signal, fs_orig, fs_resample):\n",
    "    return resampy.resample(signal, fs_orig, fs_resample)"
   ]
  },
  {
   "cell_type": "code",
   "execution_count": 49,
   "metadata": {},
   "outputs": [],
   "source": [
    "def cluster_channel_one(eeg):\n",
    "    channel1 = eeg[0]\n",
    "    channel2 = eeg[1]\n",
    "    channel3 = eeg[2]\n",
    "    channel4 = eeg[3]\n",
    "    channel5 = eeg[9]\n",
    "    channel6 = eeg[10]\n",
    "    channel7 = eeg[15]\n",
    "\n",
    "    sum1 = np.add(channel1,channel2)\n",
    "    sum2 = np.add(sum1,channel3)\n",
    "    sum3 = np.add(sum2, channel4)\n",
    "    sum4 = np.add(sum3,channel5)\n",
    "    sum5 = np.add(sum4,channel6)\n",
    "    sum6 = np.add(sum5,channel7)\n",
    "\n",
    "    final_sum = sum6/7\n",
    "    return final_sum\n",
    "\n",
    "def cluster_channel_three(eeg):\n",
    "    channel1 = eeg[6]\n",
    "    channel2 = eeg[17]\n",
    "\n",
    "    final_sum = np.add(channel1, channel2) / 2\n",
    "    return final_sum\n",
    "\n",
    "def cluster_channel_four(eeg):\n",
    "    channel1 = eeg[7]\n",
    "    channel2 = eeg[8]\n",
    "\n",
    "    sum1 = np.add(channel1, channel2)\n",
    "\n",
    "    final_sum = sum1/2\n",
    "    return final_sum\n",
    "\n",
    "def cluster_channel_five(eeg):\n",
    "    channel1 = eeg[11]\n",
    "    channel2 = eeg[13]\n",
    "\n",
    "    sum1 = np.add(channel1, channel2)\n",
    "\n",
    "    final_sum = sum1/2\n",
    "    return final_sum\n",
    "\n",
    "def cluster_channel_six(eeg):\n",
    "    channel1 = eeg[12]\n",
    "    channel2 = eeg[14]\n",
    "\n",
    "    sum1 = np.add(channel1, channel2)\n",
    "\n",
    "    final_sum = sum1/2\n",
    "    return final_sum\n",
    "\n",
    "def cluster_eeg_channels(eeg_data):\n",
    "\n",
    "    patient_clustered_eeg = []\n",
    "\n",
    "    patient_clustered_eeg.append(cluster_channel_one(eeg_data))\n",
    "    # patient_clustered_eeg.append(cluster_channel_two(patient_eeg)) - Cluster 2 was also noisy!\n",
    "    patient_clustered_eeg.append(cluster_channel_three(eeg_data))\n",
    "    patient_clustered_eeg.append(cluster_channel_four(eeg_data))\n",
    "    patient_clustered_eeg.append(cluster_channel_five(eeg_data))\n",
    "    patient_clustered_eeg.append(cluster_channel_six(eeg_data))\n",
    "\n",
    "    return patient_clustered_eeg"
   ]
  },
  {
   "cell_type": "code",
   "execution_count": 50,
   "metadata": {},
   "outputs": [],
   "source": [
    "def process_eeg(final_eeg_signal, fs_resample, fs_orig):\n",
    "\n",
    "    eeg_resample = resample(np.array(final_eeg_signal), fs_orig, fs_resample)\n",
    "    eeg_norm = sklearn.preprocessing.normalize(eeg_resample)\n",
    "    return eeg_norm"
   ]
  },
  {
   "cell_type": "code",
   "execution_count": 51,
   "metadata": {},
   "outputs": [],
   "source": [
    "def bandpassFilter(single_patient_eeg, order, start, stop, fs_resample, n_channels):\n",
    "    filtered_bandpass_eeg = []\n",
    "    for i in range(n_channels):  \n",
    "        b, a = scipy.signal.butter(order, [start, stop], 'band', fs=fs_resample)\n",
    "        single_channel_filtered_eeg = scipy.signal.lfilter(b, a, single_patient_eeg[i])\n",
    "        filtered_bandpass_eeg.append(single_channel_filtered_eeg)\n",
    "    return np.array(filtered_bandpass_eeg)\n"
   ]
  },
  {
   "cell_type": "code",
   "execution_count": 52,
   "metadata": {},
   "outputs": [],
   "source": [
    "def truncate(norm_eeg, start_sample, final_sample):\n",
    "    truncated_patient_data = []\n",
    "    for channel_data in norm_eeg:\n",
    "        truncated_channel_data = channel_data[start_sample:final_sample]\n",
    "        truncated_patient_data.append(truncated_channel_data)\n",
    "    return truncated_patient_data"
   ]
  },
  {
   "cell_type": "code",
   "execution_count": 53,
   "metadata": {},
   "outputs": [],
   "source": [
    "def extract_features(single_patient_eeg, fs_resample):\n",
    "    all_std, all_mean, all_bandpowers = [], [], []\n",
    "\n",
    "    # Calculate the min, max, standard deviation, mean, and bandpower for the single patient's channels\n",
    "    all_std.append(np.std(single_patient_eeg, axis=1))\n",
    "    all_mean.append(np.mean(single_patient_eeg, axis=1))\n",
    "\n",
    "    patient_bandpowers = []\n",
    "    bandpower_df = nk.eeg_power(single_patient_eeg, sampling_rate=fs_resample)\n",
    "\n",
    "    for _, row in bandpower_df.iterrows():\n",
    "        # Get the bandpower values using the correct column names\n",
    "        gamma, beta, alpha, theta, delta = row[['Hz_1_4', 'Hz_4_8', 'Hz_8_13', 'Hz_13_30', 'Hz_30_80']]\n",
    "        patient_bandpowers.append([gamma, beta, alpha, theta, delta])\n",
    "    all_bandpowers.append(patient_bandpowers)\n",
    "\n",
    "    # Convert list of arrays to 2D arrays\n",
    "    all_std = np.array(all_std)\n",
    "    all_mean = np.array(all_mean)\n",
    "    all_bandpowers = np.array(all_bandpowers) \n",
    "\n",
    "    # Create a DataFrame and add the features\n",
    "    df = pd.DataFrame()\n",
    "    for i in range(all_std.shape[1]):  # Loop over the number of channels\n",
    "        df[f'Channel_{i+1}_STD'] = all_std[:, i]\n",
    "        df[f'Channel_{i+1}_Mean'] = all_mean[:, i]\n",
    "        \n",
    "        for j in range(all_bandpowers.shape[2]):  # Loop over the number of bandpowers\n",
    "            df[f'Channel_{i+1}_Bandpower_{j+1}'] = all_bandpowers[:, i, j]\n",
    "\n",
    "    return df\n"
   ]
  },
  {
   "cell_type": "code",
   "execution_count": 54,
   "metadata": {},
   "outputs": [],
   "source": [
    "def predict_outcome(file_path_eeg, file_path_header, file_path_patient_info, fs_resample, start_sample, final_sample, order, low_freq, upper_freq, n_channels):\n",
    "    df = format_data(file_path_eeg,file_path_header,file_path_patient_info)\n",
    "    \n",
    "    eeg_signal = df['EEG'].tolist()\n",
    "    fs_orig = df[\"FS\"].values[0]\n",
    "    \n",
    "    del df[\"EEG\"]\n",
    "    del df[\"FS\"]\n",
    "    \n",
    "    \n",
    "    # 7th Channel was quite noisy, so this line removes 7th channel data\n",
    "    del_eeg_signal = np.delete(eeg_signal, 6, axis=1)\n",
    "    \n",
    "    clustered_eeg = cluster_eeg_channels(del_eeg_signal[0])\n",
    "    \n",
    "    processed_eeg = process_eeg(clustered_eeg, fs_resample, fs_orig)\n",
    "    \n",
    "    truncated_eeg = truncate(processed_eeg, start_sample, final_sample)\n",
    " \n",
    "    filteredBandPassEEG = bandpassFilter(truncated_eeg, order, low_freq, upper_freq, fs_resample, n_channels)\n",
    "\n",
    "    filtered_eeg_array = np.array(filteredBandPassEEG)\n",
    "\n",
    "    feature_df = extract_features(filtered_eeg_array, fs_resample)\n",
    "\n",
    "    # WORK ON COMBINING PATIENT INFO AND EEG DATA\n",
    "    all_features_df = pd.concat([df, feature_df], axis=1, join='inner') \n",
    "\n",
    "    del all_features_df['CPC']\n",
    "    del all_features_df['index']\n",
    "    #It shouldn't be included when making a prediction\n",
    "    \n",
    "    return all_features_df\n",
    "\n",
    "    \n",
    "\n",
    "\n",
    "    \n"
   ]
  },
  {
   "cell_type": "code",
   "execution_count": 55,
   "metadata": {},
   "outputs": [],
   "source": [
    "def calc_outcome(patient_features):\n",
    "    model = load_model('modelWithoutNorm.h5')\n",
    "    prediction = model.predict(patient_features)\n",
    "    if(prediction > .85):\n",
    "        output = \"It's likely that the patient will have a poor neurological outcome\"\n",
    "        output += \"\\nProbability of Poor Outcome: \" + str(prediction[0][0] * 100) + \"%\"\n",
    "        return output\n",
    "    else:\n",
    "        output = \"It's likely that the patient will have a good neurological outcome\"\n",
    "        output += \"\\nProbability of Poor Outcome: \" + str(prediction[0][0] * 100) + \"%\"\n",
    "        return output"
   ]
  },
  {
   "cell_type": "code",
   "execution_count": 61,
   "metadata": {},
   "outputs": [],
   "source": [
    "fs_resample = 100\n",
    "start_sample = 42000\n",
    "final_sample = 43000\n",
    "n_channels = 5\n",
    "order = 3\n",
    "low_freq = 1\n",
    "upper_freq = 49\n",
    "# path_eeg = r\"C:\\Users\\sendm\\physionet.org\\files\\i-care\\2.0\\training\\0313\\0313_001_004_EEG.mat\"\n",
    "# path_header = r\"C:\\Users\\sendm\\physionet.org\\files\\i-care\\2.0\\training\\0313\\0313_001_004_EEG.hea\"\n",
    "# path_patient_info = r\"C:\\Users\\sendm\\physionet.org\\files\\i-care\\2.0\\training\\0313\\0313.txt\"\n",
    "base_path = r\"C:\\Users\\sendm\\physionet.org\\files\\i-care\\2.0\\training\\0313\\\\\"\n",
    "\n",
    "# patient_features = predict_outcome(path_eeg, path_header, path_patient_info, fs_resample, start_sample, final_sample,order, low_freq, upper_freq, n_channels)\n",
    "\n",
    "# outcome = calc_outcome(patient_features)\n",
    "# print(outcome)"
   ]
  },
  {
   "cell_type": "code",
   "execution_count": 62,
   "metadata": {},
   "outputs": [
    {
     "name": "stdout",
     "output_type": "stream",
     "text": [
      " * Serving Flask app '__main__'\n",
      " * Debug mode: off\n"
     ]
    },
    {
     "name": "stderr",
     "output_type": "stream",
     "text": [
      "WARNING: This is a development server. Do not use it in a production deployment. Use a production WSGI server instead.\n",
      " * Running on all addresses (0.0.0.0)\n",
      " * Running on http://127.0.0.1:5000\n",
      " * Running on http://192.168.1.26:5000\n",
      "Press CTRL+C to quit\n"
     ]
    },
    {
     "name": "stdout",
     "output_type": "stream",
     "text": [
      "Received file names: ['0313_001_004_EEG.mat', '0313_001_004_EEG.hea', '0313.txt']\n",
      "1/1 [==============================] - 0s 88ms/step\n"
     ]
    },
    {
     "name": "stderr",
     "output_type": "stream",
     "text": [
      "192.168.1.26 - - [22/Oct/2023 15:20:30] \"POST /upload HTTP/1.1\" 200 -\n"
     ]
    },
    {
     "name": "stdout",
     "output_type": "stream",
     "text": [
      "It's likely that the patient will have a good neurological outcome\n",
      "Probability of Poor Outcome: 66.34605526924133%\n",
      "Received file names: ['0313_001_004_EEG.mat', '0313_001_004_EEG.hea', '0313.txt']\n",
      "1/1 [==============================] - 0s 96ms/step\n"
     ]
    },
    {
     "name": "stderr",
     "output_type": "stream",
     "text": [
      "192.168.1.26 - - [22/Oct/2023 15:40:17] \"POST /upload HTTP/1.1\" 200 -\n"
     ]
    },
    {
     "name": "stdout",
     "output_type": "stream",
     "text": [
      "It's likely that the patient will have a good neurological outcome\n",
      "Probability of Poor Outcome: 66.34605526924133%\n",
      "Received file names: ['0313_001_004_EEG.mat', '0313_001_004_EEG.hea', '0313.txt']\n",
      "1/1 [==============================] - 0s 92ms/step\n"
     ]
    },
    {
     "name": "stderr",
     "output_type": "stream",
     "text": [
      "192.168.1.26 - - [22/Oct/2023 15:56:53] \"POST /upload HTTP/1.1\" 200 -\n"
     ]
    },
    {
     "name": "stdout",
     "output_type": "stream",
     "text": [
      "It's likely that the patient will have a good neurological outcome\n",
      "Probability of Poor Outcome: 66.34605526924133%\n",
      "Received file names: ['0313_001_004_EEG.mat', '0313_001_004_EEG.hea', '0313.txt']\n",
      "WARNING:tensorflow:5 out of the last 5 calls to <function Model.make_predict_function.<locals>.predict_function at 0x000001FB5DB68F40> triggered tf.function retracing. Tracing is expensive and the excessive number of tracings could be due to (1) creating @tf.function repeatedly in a loop, (2) passing tensors with different shapes, (3) passing Python objects instead of tensors. For (1), please define your @tf.function outside of the loop. For (2), @tf.function has reduce_retracing=True option that can avoid unnecessary retracing. For (3), please refer to https://www.tensorflow.org/guide/function#controlling_retracing and https://www.tensorflow.org/api_docs/python/tf/function for  more details.\n",
      "1/1 [==============================] - 0s 104ms/step\n"
     ]
    },
    {
     "name": "stderr",
     "output_type": "stream",
     "text": [
      "192.168.1.26 - - [22/Oct/2023 16:51:21] \"POST /upload HTTP/1.1\" 200 -\n"
     ]
    },
    {
     "name": "stdout",
     "output_type": "stream",
     "text": [
      "It's likely that the patient will have a good neurological outcome\n",
      "Probability of Poor Outcome: 66.34605526924133%\n",
      "Received file names: ['0313_001_004_EEG.mat', '0313_001_004_EEG.hea', '0313.txt']\n",
      "WARNING:tensorflow:6 out of the last 6 calls to <function Model.make_predict_function.<locals>.predict_function at 0x000001FB5FDA4860> triggered tf.function retracing. Tracing is expensive and the excessive number of tracings could be due to (1) creating @tf.function repeatedly in a loop, (2) passing tensors with different shapes, (3) passing Python objects instead of tensors. For (1), please define your @tf.function outside of the loop. For (2), @tf.function has reduce_retracing=True option that can avoid unnecessary retracing. For (3), please refer to https://www.tensorflow.org/guide/function#controlling_retracing and https://www.tensorflow.org/api_docs/python/tf/function for  more details.\n",
      "1/1 [==============================] - 0s 72ms/step\n"
     ]
    },
    {
     "name": "stderr",
     "output_type": "stream",
     "text": [
      "192.168.1.26 - - [22/Oct/2023 16:51:38] \"POST /upload HTTP/1.1\" 200 -\n"
     ]
    },
    {
     "name": "stdout",
     "output_type": "stream",
     "text": [
      "It's likely that the patient will have a good neurological outcome\n",
      "Probability of Poor Outcome: 66.34605526924133%\n",
      "Received file names: ['0313_001_004_EEG.mat', '0313_001_004_EEG.hea', '0313.txt']\n",
      "1/1 [==============================] - 0s 84ms/step\n"
     ]
    },
    {
     "name": "stderr",
     "output_type": "stream",
     "text": [
      "192.168.1.26 - - [22/Oct/2023 16:54:00] \"POST /upload HTTP/1.1\" 200 -\n"
     ]
    },
    {
     "name": "stdout",
     "output_type": "stream",
     "text": [
      "It's likely that the patient will have a good neurological outcome\n",
      "Probability of Poor Outcome: 66.34605526924133%\n",
      "Received file names: ['0313_001_004_EEG.mat', '0313_001_004_EEG.hea', '0313.txt']\n",
      "1/1 [==============================] - 0s 68ms/step\n"
     ]
    },
    {
     "name": "stderr",
     "output_type": "stream",
     "text": [
      "192.168.1.26 - - [22/Oct/2023 16:56:20] \"POST /upload HTTP/1.1\" 200 -\n"
     ]
    },
    {
     "name": "stdout",
     "output_type": "stream",
     "text": [
      "It's likely that the patient will have a good neurological outcome\n",
      "Probability of Poor Outcome: 66.34605526924133%\n",
      "Received file names: ['0313_001_004_EEG.mat', '0313_001_004_EEG.hea', '0313.txt']\n",
      "1/1 [==============================] - 0s 72ms/step\n"
     ]
    },
    {
     "name": "stderr",
     "output_type": "stream",
     "text": [
      "192.168.1.26 - - [22/Oct/2023 16:59:12] \"POST /upload HTTP/1.1\" 200 -\n"
     ]
    },
    {
     "name": "stdout",
     "output_type": "stream",
     "text": [
      "It's likely that the patient will have a good neurological outcome\n",
      "Probability of Poor Outcome: 66.34605526924133%\n",
      "Received file names: ['0313_001_004_EEG.mat', '0313_001_004_EEG.hea', '0313.txt']\n",
      "1/1 [==============================] - 0s 72ms/step\n"
     ]
    },
    {
     "name": "stderr",
     "output_type": "stream",
     "text": [
      "192.168.1.26 - - [22/Oct/2023 17:07:15] \"POST /upload HTTP/1.1\" 200 -\n"
     ]
    },
    {
     "name": "stdout",
     "output_type": "stream",
     "text": [
      "It's likely that the patient will have a good neurological outcome\n",
      "Probability of Poor Outcome: 66.34605526924133%\n",
      "Received file names: ['0313_001_004_EEG.mat', '0313_001_004_EEG.hea', '0313.txt']\n",
      "1/1 [==============================] - 0s 96ms/step\n"
     ]
    },
    {
     "name": "stderr",
     "output_type": "stream",
     "text": [
      "192.168.1.26 - - [22/Oct/2023 17:10:51] \"POST /upload HTTP/1.1\" 200 -\n"
     ]
    },
    {
     "name": "stdout",
     "output_type": "stream",
     "text": [
      "It's likely that the patient will have a good neurological outcome\n",
      "Probability of Poor Outcome: 66.34605526924133%\n",
      "Received file names: ['0313_001_004_EEG.mat', '0313_001_004_EEG.hea', '0313.txt']\n",
      "1/1 [==============================] - 0s 51ms/step\n"
     ]
    },
    {
     "name": "stderr",
     "output_type": "stream",
     "text": [
      "192.168.1.26 - - [22/Oct/2023 17:16:00] \"POST /upload HTTP/1.1\" 200 -\n"
     ]
    },
    {
     "name": "stdout",
     "output_type": "stream",
     "text": [
      "It's likely that the patient will have a good neurological outcome\n",
      "Probability of Poor Outcome: 66.34605526924133%\n"
     ]
    },
    {
     "name": "stderr",
     "output_type": "stream",
     "text": [
      "[2023-10-22 17:23:05,075] ERROR in app: Exception on /upload [POST]\n",
      "Traceback (most recent call last):\n",
      "  File \"c:\\Users\\sendm\\AppData\\Local\\Programs\\Python\\Python311\\Lib\\site-packages\\flask\\app.py\", line 2190, in wsgi_app\n",
      "    response = self.full_dispatch_request()\n",
      "               ^^^^^^^^^^^^^^^^^^^^^^^^^^^^\n",
      "  File \"c:\\Users\\sendm\\AppData\\Local\\Programs\\Python\\Python311\\Lib\\site-packages\\flask\\app.py\", line 1486, in full_dispatch_request\n",
      "    rv = self.handle_user_exception(e)\n",
      "         ^^^^^^^^^^^^^^^^^^^^^^^^^^^^^\n",
      "  File \"c:\\Users\\sendm\\AppData\\Local\\Programs\\Python\\Python311\\Lib\\site-packages\\flask_cors\\extension.py\", line 165, in wrapped_function\n",
      "    return cors_after_request(app.make_response(f(*args, **kwargs)))\n",
      "                                                ^^^^^^^^^^^^^^^^^^\n",
      "  File \"c:\\Users\\sendm\\AppData\\Local\\Programs\\Python\\Python311\\Lib\\site-packages\\flask\\app.py\", line 1484, in full_dispatch_request\n",
      "    rv = self.dispatch_request()\n",
      "         ^^^^^^^^^^^^^^^^^^^^^^^\n",
      "  File \"c:\\Users\\sendm\\AppData\\Local\\Programs\\Python\\Python311\\Lib\\site-packages\\flask\\app.py\", line 1469, in dispatch_request\n",
      "    return self.ensure_sync(self.view_functions[rule.endpoint])(**view_args)\n",
      "           ^^^^^^^^^^^^^^^^^^^^^^^^^^^^^^^^^^^^^^^^^^^^^^^^^^^^^^^^^^^^^^^^^\n",
      "  File \"C:\\Users\\sendm\\AppData\\Local\\Temp\\ipykernel_14232\\138330330.py\", line 13, in upload\n",
      "    patient_features = predict_outcome(base_path  + file_names[0], base_path + file_names[1], base_path + file_names[2], fs_resample, start_sample, final_sample,order, low_freq, upper_freq, n_channels)\n",
      "                       ^^^^^^^^^^^^^^^^^^^^^^^^^^^^^^^^^^^^^^^^^^^^^^^^^^^^^^^^^^^^^^^^^^^^^^^^^^^^^^^^^^^^^^^^^^^^^^^^^^^^^^^^^^^^^^^^^^^^^^^^^^^^^^^^^^^^^^^^^^^^^^^^^^^^^^^^^^^^^^^^^^^^^^^^^^^^^^^^^^\n",
      "  File \"C:\\Users\\sendm\\AppData\\Local\\Temp\\ipykernel_14232\\1332018902.py\", line 2, in predict_outcome\n",
      "    df = format_data(file_path_eeg,file_path_header,file_path_patient_info)\n",
      "         ^^^^^^^^^^^^^^^^^^^^^^^^^^^^^^^^^^^^^^^^^^^^^^^^^^^^^^^^^^^^^^^^^^\n",
      "  File \"C:\\Users\\sendm\\AppData\\Local\\Temp\\ipykernel_14232\\1199129572.py\", line 2, in format_data\n",
      "    eeg_data = load_mat(file_path_eeg)\n",
      "               ^^^^^^^^^^^^^^^^^^^^^^^\n",
      "  File \"C:\\Users\\sendm\\AppData\\Local\\Temp\\ipykernel_14232\\3086920062.py\", line 2, in load_mat\n",
      "    data=scipy.io.loadmat(fileName)\n",
      "         ^^^^^^^^^^^^^^^^^^^^^^^^^^\n",
      "  File \"c:\\Users\\sendm\\AppData\\Local\\Programs\\Python\\Python311\\Lib\\site-packages\\scipy\\io\\matlab\\_mio.py\", line 226, in loadmat\n",
      "    MR, _ = mat_reader_factory(f, **kwargs)\n",
      "            ^^^^^^^^^^^^^^^^^^^^^^^^^^^^^^^\n",
      "  File \"c:\\Users\\sendm\\AppData\\Local\\Programs\\Python\\Python311\\Lib\\site-packages\\scipy\\io\\matlab\\_mio.py\", line 74, in mat_reader_factory\n",
      "    mjv, mnv = _get_matfile_version(byte_stream)\n",
      "               ^^^^^^^^^^^^^^^^^^^^^^^^^^^^^^^^^\n",
      "  File \"c:\\Users\\sendm\\AppData\\Local\\Programs\\Python\\Python311\\Lib\\site-packages\\scipy\\io\\matlab\\_miobase.py\", line 251, in _get_matfile_version\n",
      "    raise ValueError('Unknown mat file type, version %s, %s' % ret)\n",
      "ValueError: Unknown mat file type, version 110, 99\n",
      "192.168.1.26 - - [22/Oct/2023 17:23:05] \"POST /upload HTTP/1.1\" 500 -\n"
     ]
    },
    {
     "name": "stdout",
     "output_type": "stream",
     "text": [
      "Received file names: ['0313_002_005_ECG.hea', '0313_001_004_EEG.hea', '0313_002_005_EEG.hea']\n"
     ]
    },
    {
     "name": "stderr",
     "output_type": "stream",
     "text": [
      "[2023-10-22 17:39:28,413] ERROR in app: Exception on /upload [POST]\n",
      "Traceback (most recent call last):\n",
      "  File \"c:\\Users\\sendm\\AppData\\Local\\Programs\\Python\\Python311\\Lib\\site-packages\\flask\\app.py\", line 2190, in wsgi_app\n",
      "    response = self.full_dispatch_request()\n",
      "               ^^^^^^^^^^^^^^^^^^^^^^^^^^^^\n",
      "  File \"c:\\Users\\sendm\\AppData\\Local\\Programs\\Python\\Python311\\Lib\\site-packages\\flask\\app.py\", line 1486, in full_dispatch_request\n",
      "    rv = self.handle_user_exception(e)\n",
      "         ^^^^^^^^^^^^^^^^^^^^^^^^^^^^^\n",
      "  File \"c:\\Users\\sendm\\AppData\\Local\\Programs\\Python\\Python311\\Lib\\site-packages\\flask_cors\\extension.py\", line 165, in wrapped_function\n",
      "    return cors_after_request(app.make_response(f(*args, **kwargs)))\n",
      "                                                ^^^^^^^^^^^^^^^^^^\n",
      "  File \"c:\\Users\\sendm\\AppData\\Local\\Programs\\Python\\Python311\\Lib\\site-packages\\flask\\app.py\", line 1484, in full_dispatch_request\n",
      "    rv = self.dispatch_request()\n",
      "         ^^^^^^^^^^^^^^^^^^^^^^^\n",
      "  File \"c:\\Users\\sendm\\AppData\\Local\\Programs\\Python\\Python311\\Lib\\site-packages\\flask\\app.py\", line 1469, in dispatch_request\n",
      "    return self.ensure_sync(self.view_functions[rule.endpoint])(**view_args)\n",
      "           ^^^^^^^^^^^^^^^^^^^^^^^^^^^^^^^^^^^^^^^^^^^^^^^^^^^^^^^^^^^^^^^^^\n",
      "  File \"C:\\Users\\sendm\\AppData\\Local\\Temp\\ipykernel_14232\\138330330.py\", line 13, in upload\n",
      "    patient_features = predict_outcome(base_path  + file_names[0], base_path + file_names[1], base_path + file_names[2], fs_resample, start_sample, final_sample,order, low_freq, upper_freq, n_channels)\n",
      "                       ^^^^^^^^^^^^^^^^^^^^^^^^^^^^^^^^^^^^^^^^^^^^^^^^^^^^^^^^^^^^^^^^^^^^^^^^^^^^^^^^^^^^^^^^^^^^^^^^^^^^^^^^^^^^^^^^^^^^^^^^^^^^^^^^^^^^^^^^^^^^^^^^^^^^^^^^^^^^^^^^^^^^^^^^^^^^^^^^^^\n",
      "  File \"C:\\Users\\sendm\\AppData\\Local\\Temp\\ipykernel_14232\\1332018902.py\", line 2, in predict_outcome\n",
      "    df = format_data(file_path_eeg,file_path_header,file_path_patient_info)\n",
      "         ^^^^^^^^^^^^^^^^^^^^^^^^^^^^^^^^^^^^^^^^^^^^^^^^^^^^^^^^^^^^^^^^^^\n",
      "  File \"C:\\Users\\sendm\\AppData\\Local\\Temp\\ipykernel_14232\\1199129572.py\", line 7, in format_data\n",
      "    patient_info = load_patient_data(file_path_patient_info)\n",
      "                   ^^^^^^^^^^^^^^^^^^^^^^^^^^^^^^^^^^^^^^^^^\n",
      "  File \"C:\\Users\\sendm\\AppData\\Local\\Temp\\ipykernel_14232\\2561600910.py\", line 9, in load_patient_data\n",
      "    attribute, value = line.strip().split(':')\n",
      "    ^^^^^^^^^^^^^^^^\n",
      "ValueError: not enough values to unpack (expected 2, got 1)\n",
      "192.168.1.26 - - [22/Oct/2023 17:39:28] \"POST /upload HTTP/1.1\" 500 -\n"
     ]
    },
    {
     "name": "stdout",
     "output_type": "stream",
     "text": [
      "Received file names: ['0313_001_004_EEG.mat', '0313_002_005_ECG.hea', '0313_001_004_EEG.hea', '0313.txt']\n",
      "Received file names: ['0313_001_004_EEG.mat', '0313_001_004_EEG.hea', '0313.txt']\n",
      "1/1 [==============================] - 0s 52ms/step\n"
     ]
    },
    {
     "name": "stderr",
     "output_type": "stream",
     "text": [
      "192.168.1.26 - - [22/Oct/2023 17:40:30] \"POST /upload HTTP/1.1\" 200 -\n"
     ]
    },
    {
     "name": "stdout",
     "output_type": "stream",
     "text": [
      "It's likely that the patient will have a good neurological outcome\n",
      "Probability of Poor Outcome: 66.34605526924133%\n",
      "Received file names: ['0313_001_004_EEG.mat', '0313_001_004_EEG.hea', '0313.txt']\n",
      "1/1 [==============================] - 0s 66ms/step\n"
     ]
    },
    {
     "name": "stderr",
     "output_type": "stream",
     "text": [
      "192.168.1.26 - - [22/Oct/2023 17:42:22] \"POST /upload HTTP/1.1\" 200 -\n"
     ]
    },
    {
     "name": "stdout",
     "output_type": "stream",
     "text": [
      "It's likely that the patient will have a good neurological outcome\n",
      "Probability of Poor Outcome: 66.34605526924133%\n",
      "Received file names: ['0313_001_004_EEG.mat', '0313_001_004_EEG.hea', '0313.txt']\n",
      "1/1 [==============================] - 0s 51ms/step\n"
     ]
    },
    {
     "name": "stderr",
     "output_type": "stream",
     "text": [
      "192.168.1.26 - - [22/Oct/2023 17:52:52] \"POST /upload HTTP/1.1\" 200 -\n"
     ]
    },
    {
     "name": "stdout",
     "output_type": "stream",
     "text": [
      "It's likely that the patient will have a good neurological outcome\n",
      "Probability of Poor Outcome: 66.34605526924133%\n"
     ]
    },
    {
     "name": "stderr",
     "output_type": "stream",
     "text": [
      "[2023-10-22 18:09:32,673] ERROR in app: Exception on /upload [POST]\n",
      "Traceback (most recent call last):\n",
      "  File \"c:\\Users\\sendm\\AppData\\Local\\Programs\\Python\\Python311\\Lib\\site-packages\\flask\\app.py\", line 2190, in wsgi_app\n",
      "    response = self.full_dispatch_request()\n",
      "               ^^^^^^^^^^^^^^^^^^^^^^^^^^^^\n",
      "  File \"c:\\Users\\sendm\\AppData\\Local\\Programs\\Python\\Python311\\Lib\\site-packages\\flask\\app.py\", line 1486, in full_dispatch_request\n",
      "    rv = self.handle_user_exception(e)\n",
      "         ^^^^^^^^^^^^^^^^^^^^^^^^^^^^^\n",
      "  File \"c:\\Users\\sendm\\AppData\\Local\\Programs\\Python\\Python311\\Lib\\site-packages\\flask_cors\\extension.py\", line 165, in wrapped_function\n",
      "    return cors_after_request(app.make_response(f(*args, **kwargs)))\n",
      "                                                ^^^^^^^^^^^^^^^^^^\n",
      "  File \"c:\\Users\\sendm\\AppData\\Local\\Programs\\Python\\Python311\\Lib\\site-packages\\flask\\app.py\", line 1484, in full_dispatch_request\n",
      "    rv = self.dispatch_request()\n",
      "         ^^^^^^^^^^^^^^^^^^^^^^^\n",
      "  File \"c:\\Users\\sendm\\AppData\\Local\\Programs\\Python\\Python311\\Lib\\site-packages\\flask\\app.py\", line 1469, in dispatch_request\n",
      "    return self.ensure_sync(self.view_functions[rule.endpoint])(**view_args)\n",
      "           ^^^^^^^^^^^^^^^^^^^^^^^^^^^^^^^^^^^^^^^^^^^^^^^^^^^^^^^^^^^^^^^^^\n",
      "  File \"C:\\Users\\sendm\\AppData\\Local\\Temp\\ipykernel_14232\\138330330.py\", line 13, in upload\n",
      "    patient_features = predict_outcome(base_path  + file_names[0], base_path + file_names[1], base_path + file_names[2], fs_resample, start_sample, final_sample,order, low_freq, upper_freq, n_channels)\n",
      "                                                    ~~~~~~~~~~^^^\n",
      "IndexError: list index out of range\n",
      "192.168.1.26 - - [22/Oct/2023 18:09:32] \"POST /upload HTTP/1.1\" 500 -\n"
     ]
    },
    {
     "name": "stdout",
     "output_type": "stream",
     "text": [
      "Received file names: []\n",
      "Received file names: ['0313_001_004_EEG.mat', '0313_001_004_EEG.hea', '0313.txt']\n",
      "1/1 [==============================] - 0s 50ms/step\n"
     ]
    },
    {
     "name": "stderr",
     "output_type": "stream",
     "text": [
      "192.168.1.26 - - [22/Oct/2023 18:16:38] \"POST /upload HTTP/1.1\" 200 -\n"
     ]
    },
    {
     "name": "stdout",
     "output_type": "stream",
     "text": [
      "It's likely that the patient will have a good neurological outcome\n",
      "Probability of Poor Outcome: 66.34605526924133%\n",
      "Received file names: ['0313_001_004_EEG.mat', '0313_001_004_EEG.hea', '0313.txt']\n",
      "1/1 [==============================] - 0s 51ms/step\n"
     ]
    },
    {
     "name": "stderr",
     "output_type": "stream",
     "text": [
      "192.168.1.26 - - [22/Oct/2023 18:19:10] \"POST /upload HTTP/1.1\" 200 -\n"
     ]
    },
    {
     "name": "stdout",
     "output_type": "stream",
     "text": [
      "It's likely that the patient will have a good neurological outcome\n",
      "Probability of Poor Outcome: 66.34605526924133%\n",
      "Received file names: ['0313_001_004_EEG.mat', '0313_001_004_EEG.hea', '0313.txt']\n",
      "1/1 [==============================] - 0s 51ms/step\n"
     ]
    },
    {
     "name": "stderr",
     "output_type": "stream",
     "text": [
      "192.168.1.26 - - [22/Oct/2023 18:24:06] \"POST /upload HTTP/1.1\" 200 -\n"
     ]
    },
    {
     "name": "stdout",
     "output_type": "stream",
     "text": [
      "It's likely that the patient will have a good neurological outcome\n",
      "Probability of Poor Outcome: 66.34605526924133%\n",
      "Received file names: ['0313_001_004_EEG.mat', '0313_001_004_EEG.hea', '0313.txt']\n",
      "1/1 [==============================] - 0s 74ms/step\n"
     ]
    },
    {
     "name": "stderr",
     "output_type": "stream",
     "text": [
      "192.168.1.26 - - [22/Oct/2023 18:28:44] \"POST /upload HTTP/1.1\" 200 -\n"
     ]
    },
    {
     "name": "stdout",
     "output_type": "stream",
     "text": [
      "It's likely that the patient will have a good neurological outcome\n",
      "Probability of Poor Outcome: 66.34605526924133%\n",
      "Received file names: ['0313_001_004_EEG.mat', '0313_001_004_EEG.hea', '0313.txt']\n",
      "1/1 [==============================] - 0s 51ms/step\n"
     ]
    },
    {
     "name": "stderr",
     "output_type": "stream",
     "text": [
      "192.168.1.26 - - [22/Oct/2023 19:07:36] \"POST /upload HTTP/1.1\" 200 -\n"
     ]
    },
    {
     "name": "stdout",
     "output_type": "stream",
     "text": [
      "It's likely that the patient will have a good neurological outcome\n",
      "Probability of Poor Outcome: 66.34605526924133%\n",
      "Received file names: ['0313_001_004_EEG.mat', '0313_001_004_EEG.hea', '0313.txt']\n",
      "1/1 [==============================] - 0s 89ms/step\n"
     ]
    },
    {
     "name": "stderr",
     "output_type": "stream",
     "text": [
      "192.168.1.26 - - [22/Oct/2023 19:21:34] \"POST /upload HTTP/1.1\" 200 -\n"
     ]
    },
    {
     "name": "stdout",
     "output_type": "stream",
     "text": [
      "It's likely that the patient will have a good neurological outcome\n",
      "Probability of Poor Outcome: 66.34605526924133%\n",
      "Received file names: ['0313_001_004_EEG.mat', '0313_001_004_EEG.hea', '0313.txt']\n",
      "1/1 [==============================] - 0s 56ms/step\n"
     ]
    },
    {
     "name": "stderr",
     "output_type": "stream",
     "text": [
      "192.168.1.26 - - [22/Oct/2023 19:36:20] \"POST /upload HTTP/1.1\" 200 -\n"
     ]
    },
    {
     "name": "stdout",
     "output_type": "stream",
     "text": [
      "It's likely that the patient will have a good neurological outcome\n",
      "Probability of Poor Outcome: 66.34605526924133%\n"
     ]
    }
   ],
   "source": [
    "app = Flask(__name__)\n",
    "CORS(app, resources={r\"/upload\": {\"origins\": \"http://localhost:3000\"}})\n",
    "\n",
    "\n",
    "@app.route('/')\n",
    "# Endpoint to receive JSON payload with a string data\n",
    "@app.route('/upload', methods=['POST'])\n",
    "def upload():\n",
    "    # Get file names from the form data\n",
    "    file_names = [request.form.get(f'file{i}') for i in range(1, len(request.form)+1)]\n",
    "    print('Received file names:', file_names)\n",
    "    \n",
    "    patient_features = predict_outcome(base_path  + file_names[0], base_path + file_names[1], base_path + file_names[2], fs_resample, start_sample, final_sample,order, low_freq, upper_freq, n_channels)\n",
    "\n",
    "    outcome = calc_outcome(patient_features)\n",
    "    print(outcome)\n",
    "\n",
    "    return {'message': outcome}\n",
    "\n",
    "if __name__ == '__main__':\n",
    "    app.run(host='0.0.0.0', port=5000)"
   ]
  }
 ],
 "metadata": {
  "kernelspec": {
   "display_name": "Python 3",
   "language": "python",
   "name": "python3"
  },
  "language_info": {
   "codemirror_mode": {
    "name": "ipython",
    "version": 3
   },
   "file_extension": ".py",
   "mimetype": "text/x-python",
   "name": "python",
   "nbconvert_exporter": "python",
   "pygments_lexer": "ipython3",
   "version": "3.11.3"
  }
 },
 "nbformat": 4,
 "nbformat_minor": 2
}
